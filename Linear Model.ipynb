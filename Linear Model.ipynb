{
 "cells": [
  {
   "cell_type": "code",
   "execution_count": 190,
   "metadata": {
    "collapsed": true
   },
   "outputs": [],
   "source": [
    "import tensorflow as tf\n",
    "import numpy as np\n",
    "import matplotlib.pyplot as plt\n",
    "import xlrd"
   ]
  },
  {
   "cell_type": "code",
   "execution_count": 191,
   "metadata": {
    "collapsed": true
   },
   "outputs": [],
   "source": [
    "#Linear Regression\n",
    "DATA_FILE  =   \"data/slr05.xls\""
   ]
  },
  {
   "cell_type": "code",
   "execution_count": 196,
   "metadata": {
    "collapsed": true
   },
   "outputs": [],
   "source": [
    "book=xlrd.open_workbook ( DATA_FILE, encoding_override = \"utf-8\")\n",
    "sheet=book.sheet_by_index(0)\n",
    "data=np.asarray([sheet.row_values(i) for i in np.arange(1,sheet.nrows)])\n",
    "n_samples=sheet.nrows-1"
   ]
  },
  {
   "cell_type": "code",
   "execution_count": 197,
   "metadata": {
    "collapsed": true
   },
   "outputs": [],
   "source": [
    "Xs=data[:,0]\n",
    "Ys=data[:,1]\n",
    "nx=Xs.shape[0]\n",
    "ny=Ys.shape[0]\n",
    "Xs-=np.mean(Xs,axis=0)\n",
    "Xs/=np.std(Xs,axis=0)\n"
   ]
  },
  {
   "cell_type": "code",
   "execution_count": 240,
   "metadata": {
    "collapsed": true,
    "scrolled": true
   },
   "outputs": [],
   "source": [
    "g=tf.Graph()\n",
    "with g.as_default():\n",
    "    X=tf.placeholder(tf.float32,[nx],name=\"fires\")\n",
    "    Y=tf.placeholder(tf.float32,[ny],name=\"theft\")\n",
    "    W1=tf.Variable(0,dtype=tf.float32,name=\"weight1\")\n",
    "    W2=tf.Variable(0,dtype=tf.float32,name=\"weight2\")\n",
    "    W3=tf.Variable(0,dtype=tf.float32,name=\"weight3\")\n",
    "    W4=tf.Variable(0,dtype=tf.float32,name=\"weight4\")\n",
    "    W5=tf.Variable(0,dtype=tf.float32,name=\"weight5\")\n",
    "    b=tf.Variable(0,dtype=tf.float32,name=\"bias\")\n",
    "    predict=X*X*X*X*X*W5+X*X*X*X*W4+X*X*X*W3+X*X*W2+X*W1+b\n",
    "    loss_v=tf.square(predict-Y)\n",
    "    loss=tf.reduce_sum(loss_v,axis=0)/n_samples\n",
    "    optimizer=tf.train.AdamOptimizer(0.01,\n",
    "0.9,0.999,1e-08).minimize(loss)\n",
    "    init=tf.global_variables_initializer()\n",
    "    "
   ]
  },
  {
   "cell_type": "code",
   "execution_count": 241,
   "metadata": {
    "collapsed": true,
    "scrolled": true
   },
   "outputs": [],
   "source": [
    "sess=tf.Session(graph=g)\n",
    "sess.run(init)\n",
    "for i in range(0,10000):\n",
    "    sess.run(optimizer,{X:Xs,Y:Ys})\n",
    "v=sess.run(loss,{X:Xs,Y:Ys})\n",
    "\n",
    "\n"
   ]
  },
  {
   "cell_type": "code",
   "execution_count": 242,
   "metadata": {
    "collapsed": true,
    "scrolled": true
   },
   "outputs": [],
   "source": [
    "[w1,w2,w3,w4,w5,B]=sess.run([W1,W2,W3,W4,W5,b])"
   ]
  },
  {
   "cell_type": "code",
   "execution_count": 243,
   "metadata": {
    "scrolled": true
   },
   "outputs": [
    {
     "data": {
      "text/plain": [
       "[-3.8438416, -18.95192, 7.8262005, -0.058671109, 0.48486447, 39.344971]"
      ]
     },
     "execution_count": 243,
     "metadata": {},
     "output_type": "execute_result"
    }
   ],
   "source": [
    "[w1,w2,w3,w4,w5,B]"
   ]
  },
  {
   "cell_type": "markdown",
   "metadata": {},
   "source": [
    "linear regression 分类器：epoch=1000, rate=0.001"
   ]
  },
  {
   "cell_type": "code",
   "execution_count": 246,
   "metadata": {
    "scrolled": false
   },
   "outputs": [
    {
     "data": {
      "text/plain": [
       "120.40022"
      ]
     },
     "execution_count": 246,
     "metadata": {},
     "output_type": "execute_result"
    }
   ],
   "source": [
    "v"
   ]
  },
  {
   "cell_type": "code",
   "execution_count": 247,
   "metadata": {},
   "outputs": [
    {
     "data": {
      "image/png": "[encoded data removed]",
      "text/plain": [
       "<matplotlib.figure.Figure at 0x11e689f98>"
      ]
     },
     "metadata": {},
     "output_type": "display_data"
    }
   ],
   "source": [
    "f1=plt.scatter(Xs,Ys)\n",
    "x=sorted(Xs)\n",
    "x=np.array(x)\n",
    "y=x*x*x*x*x*w5+x*x*x*x*w4+x*x*x*w3+x*x*w2+x*w1+B\n",
    "plt.plot(x,y)\n",
    "plt.show()"
   ]
  },
  {
   "cell_type": "code",
   "execution_count": 248,
   "metadata": {
    "collapsed": true
   },
   "outputs": [],
   "source": [
    "sess.close()"
   ]
  },
  {
   "cell_type": "code",
   "execution_count": 326,
   "metadata": {
    "collapsed": true
   },
   "outputs": [],
   "source": [
    "#SVM\n",
    "from tensorflow.examples.tutorials.mnist import input_data"
   ]
  },
  {
   "cell_type": "code",
   "execution_count": 432,
   "metadata": {
    "scrolled": true
   },
   "outputs": [
    {
     "name": "stdout",
     "output_type": "stream",
     "text": [
      "Extracting MNIST_data/train-images-idx3-ubyte.gz\n",
      "Extracting MNIST_data/train-labels-idx1-ubyte.gz\n",
      "Extracting MNIST_data/t10k-images-idx3-ubyte.gz\n",
      "Extracting MNIST_data/t10k-labels-idx1-ubyte.gz\n"
     ]
    }
   ],
   "source": [
    "mnist = input_data.read_data_sets(\"MNIST_data/\", one_hot=True)"
   ]
  },
  {
   "cell_type": "code",
   "execution_count": 514,
   "metadata": {
    "collapsed": true,
    "scrolled": false
   },
   "outputs": [],
   "source": [
    "nx=150\n",
    "n_batch=(int)(mnist.train.num_examples/nx)"
   ]
  },
  {
   "cell_type": "code",
   "execution_count": 515,
   "metadata": {
    "collapsed": true
   },
   "outputs": [],
   "source": [
    "g2=tf.Graph()\n",
    "with g2.as_default():\n",
    "    X=tf.placeholder(tf.float32,[nx,784+1],name=\"images\")\n",
    "    Y=tf.placeholder(tf.float32,[nx,10],name=\"labels\")\n",
    "    W=tf.Variable(tf.random_normal([784+1,10],0.01),dtype=tf.float32, name=\"weights\")\n",
    "    logistic=tf.matmul(X,W)\n",
    "    SoftMaxLoss_vector=tf.nn.softmax_cross_entropy_with_logits(logits=logistic,labels=Y)\n",
    "    SoftMaxLoss=tf.reduce_sum(SoftMaxLoss_vector)\n",
    "    optimizer=tf.train.AdamOptimizer(0.1,0.9,0.999,1e-08).minimize(SoftMaxLoss)\n",
    "    init=tf.global_variables_initializer()\n",
    "\n",
    "\n",
    "    "
   ]
  },
  {
   "cell_type": "code",
   "execution_count": 516,
   "metadata": {
    "collapsed": true
   },
   "outputs": [],
   "source": [
    "sess2=tf.Session(graph=g2)\n",
    "sess2.run(init)\n",
    "for i in range(10):\n",
    "    for j in range(n_batch):\n",
    "        Xs,Ys=mnist.train.next_batch(nx)\n",
    "        Xs=np.hstack((np.ones([nx,1]),Xs))\n",
    "        sess2.run(optimizer,{X:Xs,Y:Ys})\n",
    "        "
   ]
  },
  {
   "cell_type": "code",
   "execution_count": 526,
   "metadata": {
    "scrolled": true
   },
   "outputs": [
    {
     "ename": "RuntimeError",
     "evalue": "Attempted to use a closed Session.",
     "output_type": "error",
     "traceback": [
      "\u001b[0;31m---------------------------------------------------------------------------\u001b[0m",
      "\u001b[0;31mRuntimeError\u001b[0m                              Traceback (most recent call last)",
      "\u001b[0;32m<ipython-input-526-0faca762bada>\u001b[0m in \u001b[0;36m<module>\u001b[0;34m()\u001b[0m\n\u001b[0;32m----> 1\u001b[0;31m \u001b[0mw\u001b[0m\u001b[0;34m=\u001b[0m\u001b[0msess2\u001b[0m\u001b[0;34m.\u001b[0m\u001b[0mrun\u001b[0m\u001b[0;34m(\u001b[0m\u001b[0mW\u001b[0m\u001b[0;34m)\u001b[0m\u001b[0;34m\u001b[0m\u001b[0m\n\u001b[0m",
      "\u001b[0;32m/Applications/anaconda/envs/tensorflowpy35/lib/python3.5/site-packages/tensorflow/python/client/session.py\u001b[0m in \u001b[0;36mrun\u001b[0;34m(self, fetches, feed_dict, options, run_metadata)\u001b[0m\n\u001b[1;32m    776\u001b[0m     \u001b[0;32mtry\u001b[0m\u001b[0;34m:\u001b[0m\u001b[0;34m\u001b[0m\u001b[0m\n\u001b[1;32m    777\u001b[0m       result = self._run(None, fetches, feed_dict, options_ptr,\n\u001b[0;32m--> 778\u001b[0;31m                          run_metadata_ptr)\n\u001b[0m\u001b[1;32m    779\u001b[0m       \u001b[0;32mif\u001b[0m \u001b[0mrun_metadata\u001b[0m\u001b[0;34m:\u001b[0m\u001b[0;34m\u001b[0m\u001b[0m\n\u001b[1;32m    780\u001b[0m         \u001b[0mproto_data\u001b[0m \u001b[0;34m=\u001b[0m \u001b[0mtf_session\u001b[0m\u001b[0;34m.\u001b[0m\u001b[0mTF_GetBuffer\u001b[0m\u001b[0;34m(\u001b[0m\u001b[0mrun_metadata_ptr\u001b[0m\u001b[0;34m)\u001b[0m\u001b[0;34m\u001b[0m\u001b[0m\n",
      "\u001b[0;32m/Applications/anaconda/envs/tensorflowpy35/lib/python3.5/site-packages/tensorflow/python/client/session.py\u001b[0m in \u001b[0;36m_run\u001b[0;34m(self, handle, fetches, feed_dict, options, run_metadata)\u001b[0m\n\u001b[1;32m    912\u001b[0m     \u001b[0;31m# Check session.\u001b[0m\u001b[0;34m\u001b[0m\u001b[0;34m\u001b[0m\u001b[0m\n\u001b[1;32m    913\u001b[0m     \u001b[0;32mif\u001b[0m \u001b[0mself\u001b[0m\u001b[0;34m.\u001b[0m\u001b[0m_closed\u001b[0m\u001b[0;34m:\u001b[0m\u001b[0;34m\u001b[0m\u001b[0m\n\u001b[0;32m--> 914\u001b[0;31m       \u001b[0;32mraise\u001b[0m \u001b[0mRuntimeError\u001b[0m\u001b[0;34m(\u001b[0m\u001b[0;34m'Attempted to use a closed Session.'\u001b[0m\u001b[0;34m)\u001b[0m\u001b[0;34m\u001b[0m\u001b[0m\n\u001b[0m\u001b[1;32m    915\u001b[0m     \u001b[0;32mif\u001b[0m \u001b[0mself\u001b[0m\u001b[0;34m.\u001b[0m\u001b[0mgraph\u001b[0m\u001b[0;34m.\u001b[0m\u001b[0mversion\u001b[0m \u001b[0;34m==\u001b[0m \u001b[0;36m0\u001b[0m\u001b[0;34m:\u001b[0m\u001b[0;34m\u001b[0m\u001b[0m\n\u001b[1;32m    916\u001b[0m       raise RuntimeError('The Session graph is empty.  Add operations to the '\n",
      "\u001b[0;31mRuntimeError\u001b[0m: Attempted to use a closed Session."
     ]
    }
   ],
   "source": [
    "w=sess2.run(W)"
   ]
  },
  {
   "cell_type": "code",
   "execution_count": 528,
   "metadata": {
    "scrolled": false
   },
   "outputs": [
    {
     "data": {
      "text/plain": [
       "array([[-5.9474659 ,  0.9650467 ,  2.43924403, ...,  3.93442607,\n",
       "        -4.82722425, -1.19306636],\n",
       "       [-1.6220206 , -0.17740269, -1.8018024 , ..., -0.83978087,\n",
       "        -0.97892761, -0.52451879],\n",
       "       [-0.35620391, -0.94082367, -0.35172871, ..., -1.19318724,\n",
       "        -1.48260927,  1.81591737],\n",
       "       ..., \n",
       "       [ 0.80019641, -1.09757209, -1.63992655, ...,  0.89611655,\n",
       "         0.71544248,  0.23069029],\n",
       "       [ 0.28098869, -0.9430142 ,  1.91589701, ...,  1.40517509,\n",
       "        -0.71132708, -0.23983805],\n",
       "       [-0.92900068, -0.91031742, -0.21673134, ...,  1.49601936,\n",
       "         1.74725783, -0.75696158]], dtype=float32)"
      ]
     },
     "execution_count": 528,
     "metadata": {},
     "output_type": "execute_result"
    }
   ],
   "source": [
    "w"
   ]
  },
  {
   "cell_type": "code",
   "execution_count": 519,
   "metadata": {
    "collapsed": true
   },
   "outputs": [],
   "source": [
    "sess2.close()"
   ]
  },
  {
   "cell_type": "code",
   "execution_count": 524,
   "metadata": {
    "collapsed": true
   },
   "outputs": [],
   "source": [
    "g3=tf.Graph()\n",
    "with g3.as_default():\n",
    "    Xte=tf.placeholder(tf.float32,[10000,784+1],name=\"test_images\")\n",
    "    Yte=tf.placeholder(tf.float32,[10000,10],name=\"test_labels\")\n",
    "    Wtr=tf.placeholder(tf.float32,[785,10],name=\"trained_weights\")\n",
    "    logits=tf.matmul(Xte,Wtr)\n",
    "    prob=tf.nn.softmax(logits)\n",
    "    pred=tf.argmax(prob,1)\n",
    "    labelte=tf.argmax(Yte,1)\n",
    "    compare=tf.equal(pred,labelte)\n",
    "    accuracy=tf.reduce_mean(tf.cast(compare,tf.float32))"
   ]
  },
  {
   "cell_type": "code",
   "execution_count": null,
   "metadata": {
    "collapsed": true
   },
   "outputs": [],
   "source": []
  },
  {
   "cell_type": "code",
   "execution_count": 521,
   "metadata": {
    "scrolled": true
   },
   "outputs": [
    {
     "name": "stdout",
     "output_type": "stream",
     "text": [
      "<tensorflow.python.client.session.Session object at 0x138fddb70>\n"
     ]
    }
   ],
   "source": [
    "sess3=tf.Session(graph=g3)\n",
    "print(sess3)"
   ]
  },
  {
   "cell_type": "code",
   "execution_count": 522,
   "metadata": {
    "collapsed": true,
    "scrolled": false
   },
   "outputs": [],
   "source": [
    "xte=mnist.test.images\n",
    "yte=mnist.test.labels\n",
    "xte=np.hstack((np.ones([10000,1]),xte))\n",
    "wtr=w\n",
    "a=sess3.run(accuracy,{Xte:xte,Yte:yte,Wtr:wtr})"
   ]
  },
  {
   "cell_type": "code",
   "execution_count": 523,
   "metadata": {
    "scrolled": true
   },
   "outputs": [
    {
     "name": "stdout",
     "output_type": "stream",
     "text": [
      "0.9028\n"
     ]
    }
   ],
   "source": [
    "print(a)"
   ]
  },
  {
   "cell_type": "markdown",
   "metadata": {},
   "source": [
    "列向量形态:\n",
    "X[N,k+1],Y[N,m],W[m,k+1]\n",
    "P[m,N]=(W*X.T)\n",
    "loss=-trace(ln(Y*P))\n",
    "\n",
    "def SVMloss(w,Xtr,Ytr,lamda):\n",
    "    _w=w[:,1:]\n",
    "    s=0.5*lamda*np.trace((_w.T).dot(_w))\n",
    "    z=w.dot(Xtr.T)\n",
    "    z=np.maximum(0,z+delta-z[Ytr,np.arange(0,z.shape[1])])\n",
    "    z[Ytr,np.arange(0,z.shape[1])]=0\n",
    "    s+=z.sum()/Xtr.shape[0]\n",
    "    return s"
   ]
  },
  {
   "cell_type": "code",
   "execution_count": null,
   "metadata": {
    "collapsed": true
   },
   "outputs": [],
   "source": []
  }
 ],
 "metadata": {
  "kernelspec": {
   "display_name": "Python 3",
   "language": "python",
   "name": "python3"
  },
  "language_info": {
   "codemirror_mode": {
    "name": "ipython",
    "version": 3
   },
   "file_extension": ".py",
   "mimetype": "text/x-python",
   "name": "python",
   "nbconvert_exporter": "python",
   "pygments_lexer": "ipython3",
   "version": "3.5.4"
  }
 },
 "nbformat": 4,
 "nbformat_minor": 2
}
